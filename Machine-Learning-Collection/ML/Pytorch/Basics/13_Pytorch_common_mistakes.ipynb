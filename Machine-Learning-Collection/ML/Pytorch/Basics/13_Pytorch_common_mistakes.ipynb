{
  "cells": [
    {
      "cell_type": "markdown",
      "metadata": {
        "id": "view-in-github",
        "colab_type": "text"
      },
      "source": [
        "<a href=\"https://colab.research.google.com/github/Devininthelab/Machine-Learning-Collection/blob/master/Machine-Learning-Collection/ML/Pytorch/Basics/13_Pytorch_common_mistakes.ipynb\" target=\"_parent\"><img src=\"https://colab.research.google.com/assets/colab-badge.svg\" alt=\"Open In Colab\"/></a>"
      ]
    },
    {
      "cell_type": "code",
      "execution_count": null,
      "metadata": {
        "colab": {
          "background_save": true
        },
        "id": "rS2MLUqJTVJW",
        "outputId": "5e8c6ff5-3ce7-4df5-dad3-60eea3c25de7"
      },
      "outputs": [
        {
          "name": "stdout",
          "output_type": "stream",
          "text": [
            "Cloning into 'Machine-Learning-Collection'...\n",
            "remote: Enumerating objects: 1270, done.\u001b[K\n",
            "remote: Counting objects: 100% (315/315), done.\u001b[K\n",
            "remote: Compressing objects: 100% (179/179), done.\u001b[K\n",
            "remote: Total 1270 (delta 165), reused 136 (delta 136), pack-reused 955\u001b[K\n",
            "Receiving objects: 100% (1270/1270), 97.31 MiB | 18.54 MiB/s, done.\n",
            "Resolving deltas: 100% (526/526), done.\n"
          ]
        }
      ],
      "source": [
        "!git clone https://github.com/Devininthelab/Machine-Learning-Collection.git"
      ]
    },
    {
      "cell_type": "markdown",
      "metadata": {
        "id": "0vNqmkvST_TZ"
      },
      "source": [
        "# 1. Overfit a batch"
      ]
    },
    {
      "cell_type": "code",
      "execution_count": null,
      "metadata": {
        "id": "UHRs9FdNUEyb"
      },
      "outputs": [],
      "source": [
        "import torch\n",
        "import torch.nn as nn\n",
        "import torch.optim as optim\n",
        "import torch.nn.functional as F\n",
        "from torch.utils.data import DataLoader\n",
        "import torchvision.datasets as datasets\n",
        "import torchvision.transforms as transforms\n",
        "\n"
      ]
    },
    {
      "cell_type": "code",
      "execution_count": null,
      "metadata": {
        "id": "1PjA1n9EUr0y"
      },
      "outputs": [],
      "source": [
        "class NN(nn.Module):\n",
        "    def __init__(self, input_size, num_classes):\n",
        "        super().__init__()\n",
        "        self.fc1 = nn.Linear(input_size, 50)\n",
        "        self.fc2 = nn.Linear(50, num_classes)\n",
        "\n",
        "    def forward(self, x):\n",
        "        x = F.relu(self.fc1(x))\n",
        "        x = self.fc2(x)\n",
        "        return x\n",
        "\n",
        "model = NN(784, 10)\n"
      ]
    },
    {
      "cell_type": "code",
      "execution_count": null,
      "metadata": {
        "id": "Jy04vTlMUwor"
      },
      "outputs": [],
      "source": [
        "#hyper params\n",
        "input_size = 784\n",
        "num_classes = 10\n",
        "lr = 0.001\n",
        "# chỉnh batch_size về 1 để overfit\n",
        "batch_size = 1\n",
        "num_epochs = 5"
      ]
    },
    {
      "cell_type": "code",
      "execution_count": null,
      "metadata": {
        "id": "4fsgzW6SUyXZ"
      },
      "outputs": [],
      "source": [
        "# Load data\n",
        "train_dataset = datasets.MNIST(root='./dataset', train=True, transform=transforms.ToTensor(), download=True)\n",
        "train_loader = DataLoader(dataset=train_dataset, batch_size=batch_size, shuffle=True)\n",
        "test_dataset = datasets.MNIST(root='./dataset', train=False, transform=transforms.ToTensor(), download=True)\n",
        "test_loader = DataLoader(dataset=train_dataset, batch_size=batch_size, shuffle=True)"
      ]
    },
    {
      "cell_type": "code",
      "execution_count": null,
      "metadata": {
        "id": "443x7MXWUzWE"
      },
      "outputs": [],
      "source": [
        "device = 'cuda' if torch.cuda.is_available() else 'cpu'\n",
        "model = NN(input_size=input_size, num_classes=num_classes).to(device)\n",
        "\n",
        "criterion = nn.CrossEntropyLoss()\n",
        "optimizer = optim.Adam(model.parameters(), lr=lr)"
      ]
    },
    {
      "cell_type": "markdown",
      "metadata": {
        "id": "bSCLVkDvVdg2"
      },
      "source": [
        "Để overfit 1 batch, điều đó chứng tỏ model vẫn còn cap để học. Từ đó mới tăng batch_size lên để train\n"
      ]
    },
    {
      "cell_type": "code",
      "execution_count": null,
      "metadata": {
        "id": "lG7ZpljZV8SO"
      },
      "outputs": [],
      "source": [
        "data, targets = next(iter(train_loader))"
      ]
    },
    {
      "cell_type": "code",
      "execution_count": null,
      "metadata": {
        "colab": {
          "base_uri": "https://localhost:8080/"
        },
        "id": "n9muCbShVAWk",
        "outputId": "c539bb5d-be8b-4920-af51-ef3f2c55ed9a"
      },
      "outputs": [
        {
          "name": "stdout",
          "output_type": "stream",
          "text": [
            "Epoch [1 / 5]\n",
            "tensor(0.0170, grad_fn=<NllLossBackward0>)\n",
            "Epoch [2 / 5]\n",
            "tensor(0.0147, grad_fn=<NllLossBackward0>)\n",
            "Epoch [3 / 5]\n",
            "tensor(0.0122, grad_fn=<NllLossBackward0>)\n",
            "Epoch [4 / 5]\n",
            "tensor(0.0099, grad_fn=<NllLossBackward0>)\n",
            "Epoch [5 / 5]\n",
            "tensor(0.0078, grad_fn=<NllLossBackward0>)\n"
          ]
        }
      ],
      "source": [
        "for epoch in range (num_epochs):\n",
        "    print(f'Epoch [{epoch+1} / {num_epochs}]')\n",
        "    #for batch_idx, (data, targets) in enumerate(train_loader):\n",
        "    data = data.to(device)\n",
        "    targets = targets.to(device)\n",
        "\n",
        "    data = data.reshape(data.shape[0], -1)\n",
        "\n",
        "    scores = model(data)\n",
        "    loss = criterion(scores, targets)\n",
        "    print(loss)\n",
        "\n",
        "    optimizer.zero_grad()\n",
        "    loss.backward()\n",
        "\n",
        "    optimizer.step()"
      ]
    },
    {
      "cell_type": "markdown",
      "metadata": {
        "id": "0VRvBsLyWSpt"
      },
      "source": [
        "-> Loss decreasing -> đủ capability để học"
      ]
    },
    {
      "cell_type": "markdown",
      "metadata": {
        "id": "hDYGhTjLYGdW"
      },
      "source": [
        "# 2. Forgot toggle train / val"
      ]
    },
    {
      "cell_type": "markdown",
      "metadata": {
        "id": "qjbu-QaJYX2V"
      },
      "source": [
        "Khi inference, cần bật model.eval() rồi quay lại model.train()\n",
        "-> reasons là bởi trong 1 số trường hợp, ta bật dropout lên để chạy, hoặc khi inference cũng ko dùng batch norm"
      ]
    },
    {
      "cell_type": "code",
      "execution_count": null,
      "metadata": {
        "id": "L-KSGvMCaM_d"
      },
      "outputs": [],
      "source": [
        "#hyper params\n",
        "input_size = 784\n",
        "num_classes = 10\n",
        "lr = 0.001\n",
        "# chỉnh batch_size về 1 để overfit\n",
        "batch_size = 16\n",
        "num_epochs = 3"
      ]
    },
    {
      "cell_type": "code",
      "execution_count": null,
      "metadata": {
        "id": "syFG-tuRfRel"
      },
      "outputs": [],
      "source": [
        "checkpoint = torch.load('/content/drive/MyDrive/Self study/Aladin Pearson/mycheckpoint.pth.tar')\n",
        "model.load_state_dict(checkpoint['state_dict'])\n",
        "optimizer.load_state_dict(checkpoint['optimizer'])\n"
      ]
    },
    {
      "cell_type": "code",
      "execution_count": null,
      "metadata": {
        "colab": {
          "base_uri": "https://localhost:8080/",
          "height": 507
        },
        "id": "06HIrd2gaYcM",
        "outputId": "c421a17a-4db9-45de-f6a7-a1decf2c0ae0"
      },
      "outputs": [
        {
          "name": "stdout",
          "output_type": "stream",
          "text": [
            "Epoch [1 / 3]\n"
          ]
        },
        {
          "ename": "KeyboardInterrupt",
          "evalue": "",
          "output_type": "error",
          "traceback": [
            "\u001b[0;31m---------------------------------------------------------------------------\u001b[0m",
            "\u001b[0;31mKeyboardInterrupt\u001b[0m                         Traceback (most recent call last)",
            "\u001b[0;32m<ipython-input-28-77b8cba2e031>\u001b[0m in \u001b[0;36m<cell line: 1>\u001b[0;34m()\u001b[0m\n\u001b[1;32m     15\u001b[0m         \u001b[0mloss\u001b[0m\u001b[0;34m.\u001b[0m\u001b[0mbackward\u001b[0m\u001b[0;34m(\u001b[0m\u001b[0;34m)\u001b[0m\u001b[0;34m\u001b[0m\u001b[0;34m\u001b[0m\u001b[0m\n\u001b[1;32m     16\u001b[0m \u001b[0;34m\u001b[0m\u001b[0m\n\u001b[0;32m---> 17\u001b[0;31m         \u001b[0moptimizer\u001b[0m\u001b[0;34m.\u001b[0m\u001b[0mstep\u001b[0m\u001b[0;34m(\u001b[0m\u001b[0;34m)\u001b[0m\u001b[0;34m\u001b[0m\u001b[0;34m\u001b[0m\u001b[0m\n\u001b[0m\u001b[1;32m     18\u001b[0m     \u001b[0mprint\u001b[0m\u001b[0;34m(\u001b[0m\u001b[0;34mf'Loss at epoch {epoch + 1} is {sum(losses)/len(losses):.2f}'\u001b[0m\u001b[0;34m)\u001b[0m\u001b[0;34m\u001b[0m\u001b[0;34m\u001b[0m\u001b[0m\n\u001b[1;32m     19\u001b[0m \u001b[0;34m\u001b[0m\u001b[0m\n",
            "\u001b[0;32m/usr/local/lib/python3.10/dist-packages/torch/optim/optimizer.py\u001b[0m in \u001b[0;36mwrapper\u001b[0;34m(*args, **kwargs)\u001b[0m\n\u001b[1;32m    371\u001b[0m                             )\n\u001b[1;32m    372\u001b[0m \u001b[0;34m\u001b[0m\u001b[0m\n\u001b[0;32m--> 373\u001b[0;31m                 \u001b[0mout\u001b[0m \u001b[0;34m=\u001b[0m \u001b[0mfunc\u001b[0m\u001b[0;34m(\u001b[0m\u001b[0;34m*\u001b[0m\u001b[0margs\u001b[0m\u001b[0;34m,\u001b[0m \u001b[0;34m**\u001b[0m\u001b[0mkwargs\u001b[0m\u001b[0;34m)\u001b[0m\u001b[0;34m\u001b[0m\u001b[0;34m\u001b[0m\u001b[0m\n\u001b[0m\u001b[1;32m    374\u001b[0m                 \u001b[0mself\u001b[0m\u001b[0;34m.\u001b[0m\u001b[0m_optimizer_step_code\u001b[0m\u001b[0;34m(\u001b[0m\u001b[0;34m)\u001b[0m\u001b[0;34m\u001b[0m\u001b[0;34m\u001b[0m\u001b[0m\n\u001b[1;32m    375\u001b[0m \u001b[0;34m\u001b[0m\u001b[0m\n",
            "\u001b[0;32m/usr/local/lib/python3.10/dist-packages/torch/optim/optimizer.py\u001b[0m in \u001b[0;36m_use_grad\u001b[0;34m(self, *args, **kwargs)\u001b[0m\n\u001b[1;32m     74\u001b[0m             \u001b[0mtorch\u001b[0m\u001b[0;34m.\u001b[0m\u001b[0mset_grad_enabled\u001b[0m\u001b[0;34m(\u001b[0m\u001b[0mself\u001b[0m\u001b[0;34m.\u001b[0m\u001b[0mdefaults\u001b[0m\u001b[0;34m[\u001b[0m\u001b[0;34m'differentiable'\u001b[0m\u001b[0;34m]\u001b[0m\u001b[0;34m)\u001b[0m\u001b[0;34m\u001b[0m\u001b[0;34m\u001b[0m\u001b[0m\n\u001b[1;32m     75\u001b[0m             \u001b[0mtorch\u001b[0m\u001b[0;34m.\u001b[0m\u001b[0m_dynamo\u001b[0m\u001b[0;34m.\u001b[0m\u001b[0mgraph_break\u001b[0m\u001b[0;34m(\u001b[0m\u001b[0;34m)\u001b[0m\u001b[0;34m\u001b[0m\u001b[0;34m\u001b[0m\u001b[0m\n\u001b[0;32m---> 76\u001b[0;31m             \u001b[0mret\u001b[0m \u001b[0;34m=\u001b[0m \u001b[0mfunc\u001b[0m\u001b[0;34m(\u001b[0m\u001b[0mself\u001b[0m\u001b[0;34m,\u001b[0m \u001b[0;34m*\u001b[0m\u001b[0margs\u001b[0m\u001b[0;34m,\u001b[0m \u001b[0;34m**\u001b[0m\u001b[0mkwargs\u001b[0m\u001b[0;34m)\u001b[0m\u001b[0;34m\u001b[0m\u001b[0;34m\u001b[0m\u001b[0m\n\u001b[0m\u001b[1;32m     77\u001b[0m         \u001b[0;32mfinally\u001b[0m\u001b[0;34m:\u001b[0m\u001b[0;34m\u001b[0m\u001b[0;34m\u001b[0m\u001b[0m\n\u001b[1;32m     78\u001b[0m             \u001b[0mtorch\u001b[0m\u001b[0;34m.\u001b[0m\u001b[0m_dynamo\u001b[0m\u001b[0;34m.\u001b[0m\u001b[0mgraph_break\u001b[0m\u001b[0;34m(\u001b[0m\u001b[0;34m)\u001b[0m\u001b[0;34m\u001b[0m\u001b[0;34m\u001b[0m\u001b[0m\n",
            "\u001b[0;32m/usr/local/lib/python3.10/dist-packages/torch/optim/adam.py\u001b[0m in \u001b[0;36mstep\u001b[0;34m(self, closure)\u001b[0m\n\u001b[1;32m    161\u001b[0m                 state_steps)\n\u001b[1;32m    162\u001b[0m \u001b[0;34m\u001b[0m\u001b[0m\n\u001b[0;32m--> 163\u001b[0;31m             adam(\n\u001b[0m\u001b[1;32m    164\u001b[0m                 \u001b[0mparams_with_grad\u001b[0m\u001b[0;34m,\u001b[0m\u001b[0;34m\u001b[0m\u001b[0;34m\u001b[0m\u001b[0m\n\u001b[1;32m    165\u001b[0m                 \u001b[0mgrads\u001b[0m\u001b[0;34m,\u001b[0m\u001b[0;34m\u001b[0m\u001b[0;34m\u001b[0m\u001b[0m\n",
            "\u001b[0;32m/usr/local/lib/python3.10/dist-packages/torch/optim/adam.py\u001b[0m in \u001b[0;36madam\u001b[0;34m(params, grads, exp_avgs, exp_avg_sqs, max_exp_avg_sqs, state_steps, foreach, capturable, differentiable, fused, grad_scale, found_inf, amsgrad, beta1, beta2, lr, weight_decay, eps, maximize)\u001b[0m\n\u001b[1;32m    309\u001b[0m         \u001b[0mfunc\u001b[0m \u001b[0;34m=\u001b[0m \u001b[0m_single_tensor_adam\u001b[0m\u001b[0;34m\u001b[0m\u001b[0;34m\u001b[0m\u001b[0m\n\u001b[1;32m    310\u001b[0m \u001b[0;34m\u001b[0m\u001b[0m\n\u001b[0;32m--> 311\u001b[0;31m     func(params,\n\u001b[0m\u001b[1;32m    312\u001b[0m          \u001b[0mgrads\u001b[0m\u001b[0;34m,\u001b[0m\u001b[0;34m\u001b[0m\u001b[0;34m\u001b[0m\u001b[0m\n\u001b[1;32m    313\u001b[0m          \u001b[0mexp_avgs\u001b[0m\u001b[0;34m,\u001b[0m\u001b[0;34m\u001b[0m\u001b[0;34m\u001b[0m\u001b[0m\n",
            "\u001b[0;32m/usr/local/lib/python3.10/dist-packages/torch/optim/adam.py\u001b[0m in \u001b[0;36m_single_tensor_adam\u001b[0;34m(params, grads, exp_avgs, exp_avg_sqs, max_exp_avg_sqs, state_steps, grad_scale, found_inf, amsgrad, beta1, beta2, lr, weight_decay, eps, maximize, capturable, differentiable)\u001b[0m\n\u001b[1;32m    430\u001b[0m                 \u001b[0mdenom\u001b[0m \u001b[0;34m=\u001b[0m \u001b[0;34m(\u001b[0m\u001b[0mmax_exp_avg_sqs\u001b[0m\u001b[0;34m[\u001b[0m\u001b[0mi\u001b[0m\u001b[0;34m]\u001b[0m\u001b[0;34m.\u001b[0m\u001b[0msqrt\u001b[0m\u001b[0;34m(\u001b[0m\u001b[0;34m)\u001b[0m \u001b[0;34m/\u001b[0m \u001b[0mbias_correction2_sqrt\u001b[0m\u001b[0;34m)\u001b[0m\u001b[0;34m.\u001b[0m\u001b[0madd_\u001b[0m\u001b[0;34m(\u001b[0m\u001b[0meps\u001b[0m\u001b[0;34m)\u001b[0m\u001b[0;34m\u001b[0m\u001b[0;34m\u001b[0m\u001b[0m\n\u001b[1;32m    431\u001b[0m             \u001b[0;32melse\u001b[0m\u001b[0;34m:\u001b[0m\u001b[0;34m\u001b[0m\u001b[0;34m\u001b[0m\u001b[0m\n\u001b[0;32m--> 432\u001b[0;31m                 \u001b[0mdenom\u001b[0m \u001b[0;34m=\u001b[0m \u001b[0;34m(\u001b[0m\u001b[0mexp_avg_sq\u001b[0m\u001b[0;34m.\u001b[0m\u001b[0msqrt\u001b[0m\u001b[0;34m(\u001b[0m\u001b[0;34m)\u001b[0m \u001b[0;34m/\u001b[0m \u001b[0mbias_correction2_sqrt\u001b[0m\u001b[0;34m)\u001b[0m\u001b[0;34m.\u001b[0m\u001b[0madd_\u001b[0m\u001b[0;34m(\u001b[0m\u001b[0meps\u001b[0m\u001b[0;34m)\u001b[0m\u001b[0;34m\u001b[0m\u001b[0;34m\u001b[0m\u001b[0m\n\u001b[0m\u001b[1;32m    433\u001b[0m \u001b[0;34m\u001b[0m\u001b[0m\n\u001b[1;32m    434\u001b[0m             \u001b[0mparam\u001b[0m\u001b[0;34m.\u001b[0m\u001b[0maddcdiv_\u001b[0m\u001b[0;34m(\u001b[0m\u001b[0mexp_avg\u001b[0m\u001b[0;34m,\u001b[0m \u001b[0mdenom\u001b[0m\u001b[0;34m,\u001b[0m \u001b[0mvalue\u001b[0m\u001b[0;34m=\u001b[0m\u001b[0;34m-\u001b[0m\u001b[0mstep_size\u001b[0m\u001b[0;34m)\u001b[0m\u001b[0;34m\u001b[0m\u001b[0;34m\u001b[0m\u001b[0m\n",
            "\u001b[0;31mKeyboardInterrupt\u001b[0m: "
          ]
        }
      ],
      "source": [
        "for epoch in range (num_epochs):\n",
        "    print(f'Epoch [{epoch+1} / {num_epochs}]')\n",
        "    losses = []\n",
        "    for batch_idx, (data, targets) in enumerate(train_loader):\n",
        "        data = data.to(device)\n",
        "        targets = targets.to(device)\n",
        "\n",
        "        data = data.reshape(data.shape[0], -1)\n",
        "\n",
        "        scores = model(data)\n",
        "        loss = criterion(scores, targets)\n",
        "        losses.append(loss.item())\n",
        "\n",
        "        optimizer.zero_grad()\n",
        "        loss.backward()\n",
        "\n",
        "        optimizer.step()\n",
        "    print(f'Loss at epoch {epoch + 1} is {sum(losses)/len(losses):.2f}')\n"
      ]
    },
    {
      "cell_type": "code",
      "execution_count": null,
      "metadata": {
        "id": "Pljd-lObx4yZ"
      },
      "outputs": [],
      "source": [
        "def check_accuracy(model, loader):\n",
        "    num_correct = 0\n",
        "    num_samples = 0\n",
        "    #model.eval()\n",
        "\n",
        "    with torch.no_grad():\n",
        "        for x, y in loader:\n",
        "            x = x.to(device)\n",
        "            y = y.to(device)\n",
        "            x = x.reshape(x.shape[0], -1)\n",
        "\n",
        "            scores = model(x)\n",
        "            _, predictions = scores.max(1)\n",
        "            num_correct += (predictions == y).sum()\n",
        "            num_samples += predictions.size(0)\n",
        "\n",
        "        print(\n",
        "            f\"Got {num_correct} / {num_samples} \"\n",
        "            f\"With accuracy {float(num_correct) / float(num_samples) * 100:.2f}\"\n",
        "        )\n"
      ]
    },
    {
      "cell_type": "code",
      "execution_count": null,
      "metadata": {
        "colab": {
          "base_uri": "https://localhost:8080/"
        },
        "id": "rSO0cCmdy9Gm",
        "outputId": "c3abc37f-cef8-4fb6-f7c0-1d87f4e83cbf"
      },
      "outputs": [
        {
          "name": "stdout",
          "output_type": "stream",
          "text": [
            "Got 59218 / 60000 With accuracy 98.70\n",
            "Eval: \n",
            "\n",
            "Got 59218 / 60000 With accuracy 98.70\n"
          ]
        }
      ],
      "source": [
        "check_accuracy(model, test_loader)\n",
        "model.eval()\n",
        "print('Eval: \\n')\n",
        "check_accuracy(model, test_loader)"
      ]
    },
    {
      "cell_type": "markdown",
      "metadata": {
        "id": "lBIZu2wC0M1_"
      },
      "source": [
        "Ở đây kết quả giống nhau vì mình quên cài drop out =)))"
      ]
    },
    {
      "cell_type": "markdown",
      "metadata": {
        "id": "hLYK_3jeYvEG"
      },
      "source": [
        "# 3. Forgot zero_grad()"
      ]
    },
    {
      "cell_type": "markdown",
      "metadata": {
        "id": "t0qPqhv4Yyi6"
      },
      "source": [
        "Nếu ko zero_grad(), sử dụng gradients của all the accumulated batches"
      ]
    },
    {
      "cell_type": "markdown",
      "metadata": {
        "id": "HgX79EAJ0ghW"
      },
      "source": [
        "Quên zero grad cái biết ai to ngay"
      ]
    },
    {
      "cell_type": "code",
      "execution_count": null,
      "metadata": {
        "id": "dWw5CxOn0xWv"
      },
      "outputs": [],
      "source": [
        "checkpoint = torch.load('/content/drive/MyDrive/Self study/Aladin Pearson/mycheckpoint.pth.tar')\n",
        "model.load_state_dict(checkpoint['state_dict'])\n",
        "optimizer.load_state_dict(checkpoint['optimizer'])"
      ]
    },
    {
      "cell_type": "code",
      "execution_count": null,
      "metadata": {
        "colab": {
          "base_uri": "https://localhost:8080/"
        },
        "id": "uzQyLmqb0SDT",
        "outputId": "92d45e23-8cd8-4aa9-d07f-6aa767526576"
      },
      "outputs": [
        {
          "name": "stdout",
          "output_type": "stream",
          "text": [
            "Epoch [1 / 3]\n",
            "Loss at epoch 1 is 1.77\n",
            "Epoch [2 / 3]\n",
            "Loss at epoch 2 is 1.64\n",
            "Epoch [3 / 3]\n",
            "Loss at epoch 3 is 1.77\n"
          ]
        }
      ],
      "source": [
        "for epoch in range (num_epochs):\n",
        "    print(f'Epoch [{epoch+1} / {num_epochs}]')\n",
        "    losses = []\n",
        "    for batch_idx, (data, targets) in enumerate(train_loader):\n",
        "        data = data.to(device)\n",
        "        targets = targets.to(device)\n",
        "\n",
        "        data = data.reshape(data.shape[0], -1)\n",
        "\n",
        "        scores = model(data)\n",
        "        loss = criterion(scores, targets)\n",
        "        losses.append(loss.item())\n",
        "\n",
        "        #optimizer.zero_grad()\n",
        "        loss.backward()\n",
        "\n",
        "        optimizer.step()\n",
        "    print(f'Loss at epoch {epoch + 1} is {sum(losses)/len(losses):.2f}')\n"
      ]
    },
    {
      "cell_type": "markdown",
      "metadata": {
        "id": "fT11LQ430syq"
      },
      "source": [
        "Để load lại state dict lên và cho thấy zero grad có vai trò như nào nhé"
      ]
    },
    {
      "cell_type": "code",
      "execution_count": null,
      "metadata": {
        "id": "-VWXEIQM1Hcv"
      },
      "outputs": [],
      "source": [
        "checkpoint = torch.load('/content/drive/MyDrive/Self study/Aladin Pearson/mycheckpoint.pth.tar')\n",
        "model.load_state_dict(checkpoint['state_dict'])\n",
        "optimizer.load_state_dict(checkpoint['optimizer'])"
      ]
    },
    {
      "cell_type": "code",
      "execution_count": null,
      "metadata": {
        "colab": {
          "base_uri": "https://localhost:8080/"
        },
        "id": "crMhZq5m0kaF",
        "outputId": "ebdfac18-fc3e-4b3b-a067-aafb792c7fdd"
      },
      "outputs": [
        {
          "name": "stdout",
          "output_type": "stream",
          "text": [
            "Epoch [1 / 3]\n",
            "Loss at epoch 1 is 0.02\n",
            "Epoch [2 / 3]\n",
            "Loss at epoch 2 is 0.02\n",
            "Epoch [3 / 3]\n",
            "Loss at epoch 3 is 0.02\n"
          ]
        }
      ],
      "source": [
        "for epoch in range (num_epochs):\n",
        "    print(f'Epoch [{epoch+1} / {num_epochs}]')\n",
        "    losses = []\n",
        "    for batch_idx, (data, targets) in enumerate(train_loader):\n",
        "        data = data.to(device)\n",
        "        targets = targets.to(device)\n",
        "\n",
        "        data = data.reshape(data.shape[0], -1)\n",
        "\n",
        "        scores = model(data)\n",
        "        loss = criterion(scores, targets)\n",
        "        losses.append(loss.item())\n",
        "\n",
        "        optimizer.zero_grad()\n",
        "        loss.backward()\n",
        "\n",
        "        optimizer.step()\n",
        "    print(f'Loss at epoch {epoch + 1} is {sum(losses)/len(losses):.2f}')\n"
      ]
    },
    {
      "cell_type": "markdown",
      "metadata": {
        "id": "Tv-XktiSZJa9"
      },
      "source": [
        "# 4. Using SoftMax With Cross Entropy Loss"
      ]
    },
    {
      "cell_type": "markdown",
      "metadata": {
        "id": "Hi_V6-FvZWY0"
      },
      "source": [
        "-> Trong cross entropy loss của pytorch, cần truyền vào là các giá trị logits thôi.\n",
        "-> Nếu dùng softmax xong lại cross entropy loss -> rất dễ tạo ra vanishing problem"
      ]
    },
    {
      "cell_type": "code",
      "execution_count": null,
      "metadata": {
        "id": "T5T4gV2VYXwL"
      },
      "outputs": [],
      "source": [
        "class NN2(nn.Module):\n",
        "    def __init__(self, input_size, num_classes):\n",
        "        super().__init__()\n",
        "        self.fc1 = nn.Linear(input_size, 50)\n",
        "        self.fc2 = nn.Linear(50, num_classes)\n",
        "        self.dropout = nn.Dropout(0.5)\n",
        "        self.softmax = nn.SoftMax(dim=1)\n",
        "\n",
        "    def forward(self, x):\n",
        "        x = self.dropout(F.relu(self.fc1(x)))\n",
        "        x = self.softmax(self.fc2(x))\n",
        "        return x"
      ]
    },
    {
      "cell_type": "code",
      "execution_count": null,
      "metadata": {
        "colab": {
          "base_uri": "https://localhost:8080/",
          "height": 304
        },
        "id": "TLxt77juWWe0",
        "outputId": "7f25ea37-317a-4282-cdf5-24cd8c0a32ac"
      },
      "outputs": [
        {
          "ename": "AttributeError",
          "evalue": "module 'torch.nn' has no attribute 'SoftMax'",
          "output_type": "error",
          "traceback": [
            "\u001b[0;31m---------------------------------------------------------------------------\u001b[0m",
            "\u001b[0;31mAttributeError\u001b[0m                            Traceback (most recent call last)",
            "\u001b[0;32m<ipython-input-40-4dc8f9986c85>\u001b[0m in \u001b[0;36m<cell line: 1>\u001b[0;34m()\u001b[0m\n\u001b[0;32m----> 1\u001b[0;31m \u001b[0mmodel\u001b[0m \u001b[0;34m=\u001b[0m \u001b[0mNN2\u001b[0m\u001b[0;34m(\u001b[0m\u001b[0;36m784\u001b[0m\u001b[0;34m,\u001b[0m \u001b[0;36m10\u001b[0m\u001b[0;34m)\u001b[0m\u001b[0;34m\u001b[0m\u001b[0;34m\u001b[0m\u001b[0m\n\u001b[0m",
            "\u001b[0;32m<ipython-input-39-9bcca5fb27f2>\u001b[0m in \u001b[0;36m__init__\u001b[0;34m(self, input_size, num_classes)\u001b[0m\n\u001b[1;32m      5\u001b[0m         \u001b[0mself\u001b[0m\u001b[0;34m.\u001b[0m\u001b[0mfc2\u001b[0m \u001b[0;34m=\u001b[0m \u001b[0mnn\u001b[0m\u001b[0;34m.\u001b[0m\u001b[0mLinear\u001b[0m\u001b[0;34m(\u001b[0m\u001b[0;36m50\u001b[0m\u001b[0;34m,\u001b[0m \u001b[0mnum_classes\u001b[0m\u001b[0;34m)\u001b[0m\u001b[0;34m\u001b[0m\u001b[0;34m\u001b[0m\u001b[0m\n\u001b[1;32m      6\u001b[0m         \u001b[0mself\u001b[0m\u001b[0;34m.\u001b[0m\u001b[0mdropout\u001b[0m \u001b[0;34m=\u001b[0m \u001b[0mnn\u001b[0m\u001b[0;34m.\u001b[0m\u001b[0mDropout\u001b[0m\u001b[0;34m(\u001b[0m\u001b[0;36m0.5\u001b[0m\u001b[0;34m)\u001b[0m\u001b[0;34m\u001b[0m\u001b[0;34m\u001b[0m\u001b[0m\n\u001b[0;32m----> 7\u001b[0;31m         \u001b[0mself\u001b[0m\u001b[0;34m.\u001b[0m\u001b[0msoftmax\u001b[0m \u001b[0;34m=\u001b[0m \u001b[0mnn\u001b[0m\u001b[0;34m.\u001b[0m\u001b[0mSoftMax\u001b[0m\u001b[0;34m(\u001b[0m\u001b[0mdim\u001b[0m\u001b[0;34m=\u001b[0m\u001b[0;36m1\u001b[0m\u001b[0;34m)\u001b[0m\u001b[0;34m\u001b[0m\u001b[0;34m\u001b[0m\u001b[0m\n\u001b[0m\u001b[1;32m      8\u001b[0m \u001b[0;34m\u001b[0m\u001b[0m\n\u001b[1;32m      9\u001b[0m     \u001b[0;32mdef\u001b[0m \u001b[0mforward\u001b[0m\u001b[0;34m(\u001b[0m\u001b[0mself\u001b[0m\u001b[0;34m,\u001b[0m \u001b[0mx\u001b[0m\u001b[0;34m)\u001b[0m\u001b[0;34m:\u001b[0m\u001b[0;34m\u001b[0m\u001b[0;34m\u001b[0m\u001b[0m\n",
            "\u001b[0;31mAttributeError\u001b[0m: module 'torch.nn' has no attribute 'SoftMax'"
          ]
        }
      ],
      "source": [
        "model = NN2(784, 10)\n"
      ]
    },
    {
      "cell_type": "markdown",
      "metadata": {
        "id": "R9FClzSs26Hb"
      },
      "source": [
        "# 5. Using bias with batchnorm"
      ]
    },
    {
      "cell_type": "markdown",
      "metadata": {
        "id": "zgxDfESKyUiM"
      },
      "source": [
        "Trong batch norm, bắt buộc phải set bias = TRUE để nó dịch chuyển cái distribution. Nếu ko model rất dễ bị giảm accuracy"
      ]
    },
    {
      "cell_type": "markdown",
      "metadata": {
        "id": "4zRQPlGqydbB"
      },
      "source": [
        "#6. Using View as permute"
      ]
    },
    {
      "cell_type": "code",
      "execution_count": null,
      "metadata": {
        "colab": {
          "base_uri": "https://localhost:8080/"
        },
        "id": "nCNxD0eS28cK",
        "outputId": "a6eb9cf3-0462-4059-a73b-db0da30b318b"
      },
      "outputs": [
        {
          "name": "stdout",
          "output_type": "stream",
          "text": [
            "tensor([[1, 2, 3],\n",
            "        [4, 5, 6]])\n",
            "tensor([[1, 2],\n",
            "        [3, 4],\n",
            "        [5, 6]])\n",
            "tensor([[1, 4],\n",
            "        [2, 5],\n",
            "        [3, 6]])\n"
          ]
        }
      ],
      "source": [
        "import torch\n",
        "x = torch.tensor([[1,2,3], [4, 5, 6]])\n",
        "print(x)\n",
        "\n",
        "print(x.view(3, 2))\n",
        "print(x.permute(1, 0)) # this is transposed"
      ]
    },
    {
      "cell_type": "markdown",
      "metadata": {
        "id": "TjDrCq9ZzM7K"
      },
      "source": [
        "# 7. Incorrect Data Augmentation"
      ]
    },
    {
      "cell_type": "code",
      "execution_count": null,
      "metadata": {
        "id": "B32A3KygzCx-"
      },
      "outputs": [],
      "source": [
        "import torchvision.transforms as transforms\n",
        "my_transforms = transforms.Compose(\n",
        "    [\n",
        "        transforms.RandomVerticalFlip(p=1.0),\n",
        "        transforms.RandomHorizontalFlip(p=1.0),\n",
        "        transforms.ToTensor()\n",
        "    ]\n",
        ")"
      ]
    },
    {
      "cell_type": "markdown",
      "metadata": {
        "id": "oIw1UZh00Esa"
      },
      "source": [
        "-> nếu bộ MNIST -> flip lộn ngược -> ra cái gì vậy trời ?? -> cân nhắc transforms"
      ]
    },
    {
      "cell_type": "markdown",
      "metadata": {
        "id": "17Be11xn0MVS"
      },
      "source": [
        "# 8. Not shuffling the data"
      ]
    },
    {
      "cell_type": "markdown",
      "metadata": {
        "id": "kG4-dGO00cWD"
      },
      "source": [
        "# 9. Not normalzing the data"
      ]
    },
    {
      "cell_type": "code",
      "execution_count": null,
      "metadata": {
        "id": "WKRIYGn40L_8"
      },
      "outputs": [],
      "source": [
        "my_transforms = transforms.Compose([\n",
        "    transforms.ToTensor(),\n",
        "    # transforms.Normalize(mean=(0.1307,), std=(0.3801,))\n",
        "])"
      ]
    },
    {
      "cell_type": "markdown",
      "metadata": {
        "id": "2reTOHc60_9v"
      },
      "source": [
        "-> cứ normalize thì chạy tốt hơn"
      ]
    },
    {
      "cell_type": "markdown",
      "metadata": {
        "id": "tT3-uCmF1DUG"
      },
      "source": [
        "# 10. Not clipping gradients (GRUs, LSTMs, RNNs)"
      ]
    },
    {
      "cell_type": "markdown",
      "metadata": {
        "id": "IiNMinN61IEd"
      },
      "source": [
        "sử dụng gradient clipping ( do exploding/ vanishing)"
      ]
    },
    {
      "cell_type": "code",
      "execution_count": null,
      "metadata": {
        "id": "S0mE5HiK071z"
      },
      "outputs": [],
      "source": [
        "for epoch in range (num_epochs):\n",
        "    print(f'Epoch [{epoch+1} / {num_epochs}]')\n",
        "    #for batch_idx, (data, targets) in enumerate(train_loader):\n",
        "    data = data.to(device)\n",
        "    targets = targets.to(device)\n",
        "\n",
        "    data = data.reshape(data.shape[0], -1)\n",
        "\n",
        "    scores = model(data)\n",
        "    loss = criterion(scores, targets)\n",
        "    print(loss)\n",
        "\n",
        "    optimizer.zero_grad()\n",
        "    loss.backward()\n",
        "    ##################################################\n",
        "    # PUT CODE HERE #\n",
        "    torch.nn.utils.clip_grad_norm(model.parameters(), max_norm=1)\n",
        "    ##################################################\n",
        "    optimizer.step()"
      ]
    }
  ],
  "metadata": {
    "colab": {
      "provenance": [],
      "mount_file_id": "1rK6w5NN5DVuh0e90zBtXBBjewIPfzDSw",
      "authorship_tag": "ABX9TyM24KKUSleN3potLvcnPXSC",
      "include_colab_link": true
    },
    "kernelspec": {
      "display_name": "Python 3",
      "name": "python3"
    },
    "language_info": {
      "name": "python"
    }
  },
  "nbformat": 4,
  "nbformat_minor": 0
}